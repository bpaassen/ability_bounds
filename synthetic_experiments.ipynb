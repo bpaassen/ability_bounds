{
 "cells": [
  {
   "cell_type": "markdown",
   "metadata": {},
   "source": [
    "## Synthetic Experiments\n",
    "\n",
    "In this notebook, we generate synthetic data sets with a ground truth item response theory model and test how often the bounds returned by various confidence bound methods actually include the 'true' ability parameter and how precisely the bound estimates the difference between true parameter and estimated parameter."
   ]
  },
  {
   "cell_type": "code",
   "execution_count": 1,
   "metadata": {},
   "outputs": [],
   "source": [
    "# set up data generation function\n",
    "def sample_data(m, n):\n",
    "    theta = np.random.randn(m)\n",
    "    b     = np.random.randn(n)\n",
    "    P     = 1. / (1. + np.exp(-(np.expand_dims(theta, 1) - np.expand_dims(b, 0))))\n",
    "    X     = np.random.rand(m, n)\n",
    "    X[X >= 1. - P] = 1.\n",
    "    X[X <  1. - P] = 0.\n",
    "    return theta, b, P, X\n",
    "# set up a function to evaluate coverage\n",
    "def eval_coverage(theta, theta_min, theta_max):\n",
    "    return np.mean(np.logical_and(theta >= theta_min, theta <= theta_max))\n",
    "# set up a function to compare the bound size with the size needed to cover the true theta\n",
    "def eval_logbias(theta, theta_est, theta_min, theta_max):\n",
    "    ratios  = np.zeros_like(theta)\n",
    "    small = theta < theta_est\n",
    "    lo    = theta_est[small] - theta_min[small]\n",
    "    ratios[small] = lo / (theta_est[small] - theta[small])\n",
    "    large = theta >= theta_est\n",
    "    hi    = theta_max[large] - theta_est[large]\n",
    "    ratios[large] = hi / (theta[large] - theta_est[large])\n",
    "    return np.mean(np.log(ratios))"
   ]
  },
  {
   "cell_type": "code",
   "execution_count": 2,
   "metadata": {},
   "outputs": [],
   "source": [
    "# set up experimental hyper-parameters\n",
    "experimental_conditions = [\n",
    "    (30, 10),\n",
    "    (30, 20),\n",
    "    (50, 10),\n",
    "    (50, 20),\n",
    "    (100, 10),\n",
    "    (100, 20),\n",
    "    (500, 10),\n",
    "    (500, 20)\n",
    "]\n",
    "R     = 10\n",
    "\n",
    "regul = 1.\n",
    "alpha = .95\n",
    "from scipy.stats import chi2\n",
    "absolute_bound = .5 * chi2.ppf(alpha, df = 1)\n",
    "mu    = .01\n",
    "\n",
    "method_labels = ['wald', 'likelihood-profile', 'barrier', 'AO(1)', 'AO(2)', 'AO(3)']"
   ]
  },
  {
   "cell_type": "code",
   "execution_count": 6,
   "metadata": {},
   "outputs": [
    {
     "name": "stdout",
     "output_type": "stream",
     "text": [
      "--- condition 1; m = 30, n = 10 ---\n"
     ]
    },
    {
     "name": "stderr",
     "output_type": "stream",
     "text": [
      "100%|██████████| 10/10 [00:10<00:00,  1.02s/it]\n"
     ]
    },
    {
     "name": "stdout",
     "output_type": "stream",
     "text": [
      "method              \tcoverage\tlogbias\t\truntime\n",
      "wald                \t1.000 +- 0.000\t1.798 +- 0.159\t0.008 +- 0.002\n",
      "likelihood-profile  \t0.970 +- 0.018\t1.352 +- 0.161\t0.480 +- 0.013\n",
      "barrier             \t0.917 +- 0.027\t1.191 +- 0.153\t0.066 +- 0.004\n",
      "AO(1)               \t0.957 +- 0.021\t1.331 +- 0.162\t0.034 +- 0.001\n",
      "AO(2)               \t0.970 +- 0.018\t1.352 +- 0.161\t0.166 +- 0.005\n",
      "AO(3)               \t0.970 +- 0.018\t1.352 +- 0.161\t0.262 +- 0.009\n",
      "--- condition 2; m = 30, n = 20 ---\n"
     ]
    },
    {
     "name": "stderr",
     "output_type": "stream",
     "text": [
      "  0%|          | 0/10 [00:00<?, ?it/s]/tmp/ipykernel_2281388/2074733005.py:22: RuntimeWarning: divide by zero encountered in log\n",
      "  return np.mean(np.log(ratios))\n",
      "100%|██████████| 10/10 [00:10<00:00,  1.06s/it]\n"
     ]
    },
    {
     "name": "stdout",
     "output_type": "stream",
     "text": [
      "method              \tcoverage\tlogbias\t\truntime\n",
      "wald                \t0.997 +- 0.010\t1.888 +- 0.169\t0.009 +- 0.001\n",
      "likelihood-profile  \t0.930 +- 0.064\t1.244 +- 0.166\t0.492 +- 0.023\n",
      "barrier             \t0.093 +- 0.049\t-inf +- nan\t0.049 +- 0.003\n",
      "AO(1)               \t0.927 +- 0.068\t1.212 +- 0.165\t0.035 +- 0.001\n",
      "AO(2)               \t0.930 +- 0.064\t1.244 +- 0.166\t0.179 +- 0.006\n",
      "AO(3)               \t0.930 +- 0.064\t1.244 +- 0.166\t0.289 +- 0.010\n",
      "--- condition 3; m = 50, n = 10 ---\n"
     ]
    },
    {
     "name": "stderr",
     "output_type": "stream",
     "text": [
      "100%|██████████| 10/10 [00:18<00:00,  1.80s/it]\n"
     ]
    },
    {
     "name": "stdout",
     "output_type": "stream",
     "text": [
      "method              \tcoverage\tlogbias\t\truntime\n",
      "wald                \t0.998 +- 0.006\t1.834 +- 0.154\t0.010 +- 0.002\n",
      "likelihood-profile  \t0.962 +- 0.030\t1.361 +- 0.152\t0.884 +- 0.045\n",
      "barrier             \t0.920 +- 0.028\t1.204 +- 0.155\t0.110 +- 0.006\n",
      "AO(1)               \t0.956 +- 0.025\t1.347 +- 0.152\t0.054 +- 0.002\n",
      "AO(2)               \t0.962 +- 0.030\t1.361 +- 0.152\t0.295 +- 0.012\n",
      "AO(3)               \t0.962 +- 0.030\t1.361 +- 0.152\t0.448 +- 0.018\n",
      "--- condition 4; m = 50, n = 20 ---\n"
     ]
    },
    {
     "name": "stderr",
     "output_type": "stream",
     "text": [
      "100%|██████████| 10/10 [00:18<00:00,  1.89s/it]\n"
     ]
    },
    {
     "name": "stdout",
     "output_type": "stream",
     "text": [
      "method              \tcoverage\tlogbias\t\truntime\n",
      "wald                \t1.000 +- 0.000\t1.936 +- 0.143\t0.017 +- 0.002\n",
      "likelihood-profile  \t0.934 +- 0.024\t1.256 +- 0.146\t0.902 +- 0.030\n",
      "barrier             \t0.080 +- 0.052\t-inf +- nan\t0.093 +- 0.006\n",
      "AO(1)               \t0.928 +- 0.027\t1.231 +- 0.146\t0.062 +- 0.003\n",
      "AO(2)               \t0.934 +- 0.024\t1.256 +- 0.146\t0.319 +- 0.007\n",
      "AO(3)               \t0.934 +- 0.024\t1.256 +- 0.146\t0.499 +- 0.004\n",
      "--- condition 5; m = 100, n = 10 ---\n"
     ]
    },
    {
     "name": "stderr",
     "output_type": "stream",
     "text": [
      "100%|██████████| 10/10 [00:44<00:00,  4.42s/it]\n"
     ]
    },
    {
     "name": "stdout",
     "output_type": "stream",
     "text": [
      "method              \tcoverage\tlogbias\t\truntime\n",
      "wald                \t0.995 +- 0.007\t1.806 +- 0.132\t0.031 +- 0.002\n",
      "likelihood-profile  \t0.959 +- 0.018\t1.311 +- 0.137\t2.266 +- 0.043\n",
      "barrier             \t0.916 +- 0.028\t1.157 +- 0.132\t0.284 +- 0.011\n",
      "AO(1)               \t0.955 +- 0.020\t1.303 +- 0.138\t0.141 +- 0.004\n",
      "AO(2)               \t0.959 +- 0.018\t1.311 +- 0.137\t0.739 +- 0.007\n",
      "AO(3)               \t0.959 +- 0.018\t1.311 +- 0.137\t0.957 +- 0.008\n",
      "--- condition 6; m = 100, n = 20 ---\n"
     ]
    },
    {
     "name": "stderr",
     "output_type": "stream",
     "text": [
      "100%|██████████| 10/10 [00:50<00:00,  5.00s/it]\n"
     ]
    },
    {
     "name": "stdout",
     "output_type": "stream",
     "text": [
      "method              \tcoverage\tlogbias\t\truntime\n",
      "wald                \t0.998 +- 0.004\t2.053 +- 0.096\t0.048 +- 0.003\n",
      "likelihood-profile  \t0.951 +- 0.017\t1.339 +- 0.095\t2.555 +- 0.113\n",
      "barrier             \t0.080 +- 0.025\t-inf +- nan\t0.242 +- 0.008\n",
      "AO(1)               \t0.949 +- 0.016\t1.324 +- 0.095\t0.156 +- 0.003\n",
      "AO(2)               \t0.951 +- 0.017\t1.339 +- 0.095\t0.839 +- 0.017\n",
      "AO(3)               \t0.951 +- 0.017\t1.339 +- 0.095\t1.162 +- 0.039\n",
      "--- condition 7; m = 500, n = 10 ---\n"
     ]
    },
    {
     "name": "stderr",
     "output_type": "stream",
     "text": [
      "100%|██████████| 10/10 [06:19<00:00, 37.95s/it]\n"
     ]
    },
    {
     "name": "stdout",
     "output_type": "stream",
     "text": [
      "method              \tcoverage\tlogbias\t\truntime\n",
      "wald                \t0.998 +- 0.002\t1.829 +- 0.045\t0.398 +- 0.025\n",
      "likelihood-profile  \t0.950 +- 0.009\t1.308 +- 0.041\t20.217 +- 0.742\n",
      "barrier             \t0.907 +- 0.010\t1.161 +- 0.045\t2.646 +- 0.090\n",
      "AO(1)               \t0.949 +- 0.008\t1.306 +- 0.041\t0.855 +- 0.036\n",
      "AO(2)               \t0.950 +- 0.009\t1.308 +- 0.041\t5.912 +- 0.186\n",
      "AO(3)               \t0.950 +- 0.009\t1.308 +- 0.041\t7.919 +- 0.261\n",
      "--- condition 8; m = 500, n = 20 ---\n"
     ]
    },
    {
     "name": "stderr",
     "output_type": "stream",
     "text": [
      " 20%|██        | 2/10 [02:02<08:08, 61.12s/it]/tmp/ipykernel_2281388/2074733005.py:22: RuntimeWarning: divide by zero encountered in log\n",
      "  return np.mean(np.log(ratios))\n",
      " 30%|███       | 3/10 [03:05<07:13, 61.95s/it]/tmp/ipykernel_2281388/2074733005.py:22: RuntimeWarning: divide by zero encountered in log\n",
      "  return np.mean(np.log(ratios))\n",
      "100%|██████████| 10/10 [10:26<00:00, 62.68s/it]"
     ]
    },
    {
     "name": "stdout",
     "output_type": "stream",
     "text": [
      "method              \tcoverage\tlogbias\t\truntime\n",
      "wald                \t1.000 +- 0.000\t2.064 +- 0.057\t0.756 +- 0.070\n",
      "likelihood-profile  \t0.950 +- 0.009\t1.306 +- 0.055\t35.319 +- 0.817\n",
      "barrier             \t0.080 +- 0.021\t-inf +- nan\t2.704 +- 0.092\n",
      "AO(1)               \t0.949 +- 0.009\t1.303 +- 0.055\t1.184 +- 0.063\n",
      "AO(2)               \t0.950 +- 0.009\t1.306 +- 0.055\t10.124 +- 0.198\n",
      "AO(3)               \t0.950 +- 0.009\t1.306 +- 0.055\t12.592 +- 0.167\n"
     ]
    },
    {
     "name": "stderr",
     "output_type": "stream",
     "text": [
      "\n",
      "/home/ahaim/Documents/reproducibility-tests/edm/2022/ability-bounds/env/lib/python3.11/site-packages/numpy/core/_methods.py:173: RuntimeWarning: invalid value encountered in subtract\n",
      "  x = asanyarray(arr - arrmean)\n"
     ]
    }
   ],
   "source": [
    "# perform experiment in varying conditions\n",
    "import numpy as np\n",
    "from tqdm import tqdm\n",
    "import time\n",
    "import ability_bounds\n",
    "\n",
    "for i in range(len(experimental_conditions)):\n",
    "    m, n = experimental_conditions[i]\n",
    "    print('--- condition %d; m = %d, n = %d ---' % (i+1, m, n))\n",
    "\n",
    "    coverage = np.zeros((len(method_labels), R))\n",
    "    logbias  = np.zeros((len(method_labels), R))\n",
    "    runtimes = np.zeros((len(method_labels), R))\n",
    "\n",
    "    for r in tqdm(range(R)):\n",
    "        # sample new data set\n",
    "        theta, b, P, X = sample_data(m, n)\n",
    "        # iterate over all methods\n",
    "        for method in range(len(method_labels)):\n",
    "            # set up a fresh model\n",
    "            if method_labels[method] == 'wald':\n",
    "                model = ability_bounds.WaldBounds(regul, alpha)\n",
    "            elif method_labels[method] == 'likelihood-profile':\n",
    "                model = ability_bounds.LikelihoodProfile(regul, alpha)\n",
    "            elif method_labels[method] == 'barrier':\n",
    "                model = ability_bounds.BarrierBounds(regul, absolute_bound = absolute_bound)\n",
    "            elif method_labels[method].startswith('AO'):\n",
    "                num_iterations = int(method_labels[method][3])\n",
    "                model = ability_bounds.AOBounds(regul, absolute_bound = absolute_bound, num_iterations = num_iterations)\n",
    "            else:\n",
    "                raise ValueError('unknown method: %s' % method_labels[method])\n",
    "            # fit the model to the data\n",
    "            start = time.time()\n",
    "            model.fit(X)\n",
    "            runtimes[method, r] = time.time() - start\n",
    "            # evaluate the model\n",
    "            coverage[method, r] = eval_coverage(theta, model.theta_min_, model.theta_max_)\n",
    "            logbias[method, r]  = eval_logbias(theta, model.theta_, model.theta_min_, model.theta_max_)\n",
    "\n",
    "    # print current results\n",
    "    print('method              \\tcoverage\\tlogbias\\t\\truntime')\n",
    "    for method in range(len(method_labels)):\n",
    "        row = method_labels[method] + (20 - len(method_labels[method])) * ' '\n",
    "        for measure in [coverage, logbias, runtimes]:\n",
    "            row += '\\t%.3f +- %.3f' % (np.mean(measure[method, :]), np.std(measure[method, :]))\n",
    "        print(row)\n",
    "    # store current results\n",
    "    filename = 'results_%d_%d.csv' % (m, n)\n",
    "    datamat  = np.concatenate((coverage.T, logbias.T, runtimes.T), 1)\n",
    "    header   = []\n",
    "    for measure in ['coverage', 'logbias', 'runtime']:\n",
    "        for method_label in method_labels:\n",
    "            header.append('%s_%s' % (measure, method_label))\n",
    "    np.savetxt(filename, datamat, delimiter = '\\t', fmt = '%g', header = '\\t'.join(header), comments = '')"
   ]
  }
 ],
 "metadata": {
  "kernelspec": {
   "display_name": "Python 3 (ipykernel)",
   "language": "python",
   "name": "python3"
  },
  "language_info": {
   "codemirror_mode": {
    "name": "ipython",
    "version": 3
   },
   "file_extension": ".py",
   "mimetype": "text/x-python",
   "name": "python",
   "nbconvert_exporter": "python",
   "pygments_lexer": "ipython3",
   "version": "3.11.2"
  }
 },
 "nbformat": 4,
 "nbformat_minor": 4
}
